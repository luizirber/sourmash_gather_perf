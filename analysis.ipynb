{
 "cells": [
  {
   "cell_type": "code",
   "execution_count": 1,
   "metadata": {},
   "outputs": [],
   "source": [
    "import pstats"
   ]
  },
  {
   "cell_type": "code",
   "execution_count": 2,
   "metadata": {},
   "outputs": [],
   "source": [
    "p = pstats.Stats('outputs/master.profile').strip_dirs()"
   ]
  },
  {
   "cell_type": "code",
   "execution_count": 3,
   "metadata": {},
   "outputs": [
    {
     "name": "stdout",
     "output_type": "stream",
     "text": [
      "Fri Jul 20 20:11:24 2018    outputs/master.profile\n",
      "\n",
      "         50119770 function calls (48145215 primitive calls) in 36.707 seconds\n",
      "\n",
      "   Ordered by: cumulative time\n",
      "   List reduced from 760 to 15 due to restriction <15>\n",
      "\n",
      "   ncalls  tottime  percall  cumtime  percall filename:lineno(function)\n",
      "     81/1    0.004    0.000   36.707   36.707 {built-in method builtins.exec}\n",
      "        1    0.000    0.000   36.707   36.707 sourmash:4(<module>)\n",
      "        1    0.004    0.004   36.641   36.641 __main__.py:49(main)\n",
      "        1    0.006    0.006   36.635   36.635 commands.py:905(gather)\n",
      "        4    0.045    0.011   33.473    8.368 search.py:85(gather_databases)\n",
      "        4    0.000    0.000   32.535    8.134 search.py:99(find_best)\n",
      "        4    0.255    0.064   32.374    8.094 sbt.py:182(find)\n",
      "      408    0.010    0.000   32.111    0.079 sbtmh.py:209(search)\n",
      "      372    0.047    0.000   28.624    0.077 {built-in method builtins.sum}\n",
      "    41251   14.664    0.000   28.507    0.001 sbtmh.py:219(<genexpr>)\n",
      " 21801177    7.058    0.000    7.058    0.000 {method 'get' of '_khmer.KHashtable   ' objects}\n",
      " 21801177    6.588    0.000    6.785    0.000 sbt.py:781(data)\n",
      "       52    0.001    0.000    5.122    0.098 signature.py:174(load_signatures)\n",
      "       52    0.001    0.000    5.121    0.098 signature_json.py:198(load_signatures_json)\n",
      "       52    0.000    0.000    5.120    0.098 signature_json.py:169(load_signatureset_json_iter)\n",
      "\n",
      "\n"
     ]
    },
    {
     "data": {
      "text/plain": [
       "<pstats.Stats at 0x7f99f869b0b8>"
      ]
     },
     "execution_count": 3,
     "metadata": {},
     "output_type": "execute_result"
    }
   ],
   "source": [
    "p.sort_stats('cumtime').print_stats(15)"
   ]
  },
  {
   "cell_type": "code",
   "execution_count": 4,
   "metadata": {},
   "outputs": [],
   "source": [
    "from pstatsviewer.viewer import _calc_frames"
   ]
  },
  {
   "cell_type": "code",
   "execution_count": 5,
   "metadata": {},
   "outputs": [],
   "source": [
    "timings, callers = _calc_frames(p)"
   ]
  },
  {
   "cell_type": "code",
   "execution_count": 6,
   "metadata": {},
   "outputs": [
    {
     "data": {
      "text/html": [
       "<div>\n",
       "<style>\n",
       "    .dataframe thead tr:only-child th {\n",
       "        text-align: right;\n",
       "    }\n",
       "\n",
       "    .dataframe thead th {\n",
       "        text-align: left;\n",
       "    }\n",
       "\n",
       "    .dataframe tbody tr th {\n",
       "        vertical-align: top;\n",
       "    }\n",
       "</style>\n",
       "<table border=\"1\" class=\"dataframe\">\n",
       "  <thead>\n",
       "    <tr style=\"text-align: right;\">\n",
       "      <th></th>\n",
       "      <th>lineno</th>\n",
       "      <th>ccalls</th>\n",
       "      <th>ncalls</th>\n",
       "      <th>tottime</th>\n",
       "      <th>cumtime</th>\n",
       "    </tr>\n",
       "    <tr>\n",
       "      <th>filename:funcname</th>\n",
       "      <th></th>\n",
       "      <th></th>\n",
       "      <th></th>\n",
       "      <th></th>\n",
       "      <th></th>\n",
       "    </tr>\n",
       "  </thead>\n",
       "  <tbody>\n",
       "    <tr>\n",
       "      <th>~:&lt;built-in method builtins.exec&gt;</th>\n",
       "      <td>0</td>\n",
       "      <td>1</td>\n",
       "      <td>81</td>\n",
       "      <td>0.003739</td>\n",
       "      <td>36.707459</td>\n",
       "    </tr>\n",
       "    <tr>\n",
       "      <th>sourmash:&lt;module&gt;</th>\n",
       "      <td>4</td>\n",
       "      <td>1</td>\n",
       "      <td>1</td>\n",
       "      <td>0.000026</td>\n",
       "      <td>36.707453</td>\n",
       "    </tr>\n",
       "    <tr>\n",
       "      <th>__main__.py:main</th>\n",
       "      <td>49</td>\n",
       "      <td>1</td>\n",
       "      <td>1</td>\n",
       "      <td>0.003791</td>\n",
       "      <td>36.641282</td>\n",
       "    </tr>\n",
       "    <tr>\n",
       "      <th>commands.py:gather</th>\n",
       "      <td>905</td>\n",
       "      <td>1</td>\n",
       "      <td>1</td>\n",
       "      <td>0.006444</td>\n",
       "      <td>36.635438</td>\n",
       "    </tr>\n",
       "    <tr>\n",
       "      <th>search.py:gather_databases</th>\n",
       "      <td>85</td>\n",
       "      <td>4</td>\n",
       "      <td>4</td>\n",
       "      <td>0.045148</td>\n",
       "      <td>33.473086</td>\n",
       "    </tr>\n",
       "    <tr>\n",
       "      <th>search.py:find_best</th>\n",
       "      <td>99</td>\n",
       "      <td>4</td>\n",
       "      <td>4</td>\n",
       "      <td>0.000271</td>\n",
       "      <td>32.535279</td>\n",
       "    </tr>\n",
       "    <tr>\n",
       "      <th>sbt.py:find</th>\n",
       "      <td>182</td>\n",
       "      <td>4</td>\n",
       "      <td>4</td>\n",
       "      <td>0.254776</td>\n",
       "      <td>32.374438</td>\n",
       "    </tr>\n",
       "    <tr>\n",
       "      <th>sbtmh.py:search</th>\n",
       "      <td>209</td>\n",
       "      <td>408</td>\n",
       "      <td>408</td>\n",
       "      <td>0.010255</td>\n",
       "      <td>32.110865</td>\n",
       "    </tr>\n",
       "    <tr>\n",
       "      <th>~:&lt;built-in method builtins.sum&gt;</th>\n",
       "      <td>0</td>\n",
       "      <td>372</td>\n",
       "      <td>372</td>\n",
       "      <td>0.047035</td>\n",
       "      <td>28.624140</td>\n",
       "    </tr>\n",
       "    <tr>\n",
       "      <th>sbtmh.py:&lt;genexpr&gt;</th>\n",
       "      <td>219</td>\n",
       "      <td>41251</td>\n",
       "      <td>41251</td>\n",
       "      <td>14.663530</td>\n",
       "      <td>28.506794</td>\n",
       "    </tr>\n",
       "    <tr>\n",
       "      <th>~:&lt;method 'get' of '_khmer.KHashtable   ' objects&gt;</th>\n",
       "      <td>0</td>\n",
       "      <td>21801177</td>\n",
       "      <td>21801177</td>\n",
       "      <td>7.058456</td>\n",
       "      <td>7.058456</td>\n",
       "    </tr>\n",
       "    <tr>\n",
       "      <th>sbt.py:data</th>\n",
       "      <td>781</td>\n",
       "      <td>21801177</td>\n",
       "      <td>21801177</td>\n",
       "      <td>6.587797</td>\n",
       "      <td>6.784608</td>\n",
       "    </tr>\n",
       "    <tr>\n",
       "      <th>signature.py:load_signatures</th>\n",
       "      <td>174</td>\n",
       "      <td>52</td>\n",
       "      <td>52</td>\n",
       "      <td>0.000566</td>\n",
       "      <td>5.121658</td>\n",
       "    </tr>\n",
       "    <tr>\n",
       "      <th>signature_json.py:load_signatures_json</th>\n",
       "      <td>198</td>\n",
       "      <td>52</td>\n",
       "      <td>52</td>\n",
       "      <td>0.000523</td>\n",
       "      <td>5.120950</td>\n",
       "    </tr>\n",
       "    <tr>\n",
       "      <th>signature_json.py:load_signatureset_json_iter</th>\n",
       "      <td>169</td>\n",
       "      <td>52</td>\n",
       "      <td>52</td>\n",
       "      <td>0.000262</td>\n",
       "      <td>5.120409</td>\n",
       "    </tr>\n",
       "  </tbody>\n",
       "</table>\n",
       "</div>"
      ],
      "text/plain": [
       "                                                    lineno    ccalls  \\\n",
       "filename:funcname                                                      \n",
       "~:<built-in method builtins.exec>                        0         1   \n",
       "sourmash:<module>                                        4         1   \n",
       "__main__.py:main                                        49         1   \n",
       "commands.py:gather                                     905         1   \n",
       "search.py:gather_databases                              85         4   \n",
       "search.py:find_best                                     99         4   \n",
       "sbt.py:find                                            182         4   \n",
       "sbtmh.py:search                                        209       408   \n",
       "~:<built-in method builtins.sum>                         0       372   \n",
       "sbtmh.py:<genexpr>                                     219     41251   \n",
       "~:<method 'get' of '_khmer.KHashtable   ' objects>       0  21801177   \n",
       "sbt.py:data                                            781  21801177   \n",
       "signature.py:load_signatures                           174        52   \n",
       "signature_json.py:load_signatures_json                 198        52   \n",
       "signature_json.py:load_signatureset_json_iter          169        52   \n",
       "\n",
       "                                                      ncalls    tottime  \\\n",
       "filename:funcname                                                         \n",
       "~:<built-in method builtins.exec>                         81   0.003739   \n",
       "sourmash:<module>                                          1   0.000026   \n",
       "__main__.py:main                                           1   0.003791   \n",
       "commands.py:gather                                         1   0.006444   \n",
       "search.py:gather_databases                                 4   0.045148   \n",
       "search.py:find_best                                        4   0.000271   \n",
       "sbt.py:find                                                4   0.254776   \n",
       "sbtmh.py:search                                          408   0.010255   \n",
       "~:<built-in method builtins.sum>                         372   0.047035   \n",
       "sbtmh.py:<genexpr>                                     41251  14.663530   \n",
       "~:<method 'get' of '_khmer.KHashtable   ' objects>  21801177   7.058456   \n",
       "sbt.py:data                                         21801177   6.587797   \n",
       "signature.py:load_signatures                              52   0.000566   \n",
       "signature_json.py:load_signatures_json                    52   0.000523   \n",
       "signature_json.py:load_signatureset_json_iter             52   0.000262   \n",
       "\n",
       "                                                      cumtime  \n",
       "filename:funcname                                              \n",
       "~:<built-in method builtins.exec>                   36.707459  \n",
       "sourmash:<module>                                   36.707453  \n",
       "__main__.py:main                                    36.641282  \n",
       "commands.py:gather                                  36.635438  \n",
       "search.py:gather_databases                          33.473086  \n",
       "search.py:find_best                                 32.535279  \n",
       "sbt.py:find                                         32.374438  \n",
       "sbtmh.py:search                                     32.110865  \n",
       "~:<built-in method builtins.sum>                    28.624140  \n",
       "sbtmh.py:<genexpr>                                  28.506794  \n",
       "~:<method 'get' of '_khmer.KHashtable   ' objects>   7.058456  \n",
       "sbt.py:data                                          6.784608  \n",
       "signature.py:load_signatures                         5.121658  \n",
       "signature_json.py:load_signatures_json               5.120950  \n",
       "signature_json.py:load_signatureset_json_iter        5.120409  "
      ]
     },
     "execution_count": 6,
     "metadata": {},
     "output_type": "execute_result"
    }
   ],
   "source": [
    "timings.sort_values('cumtime', ascending=False).head(15)"
   ]
  },
  {
   "cell_type": "code",
   "execution_count": 13,
   "metadata": {},
   "outputs": [],
   "source": [
    "import qgrid\n",
    "#qgrid.enable()"
   ]
  },
  {
   "cell_type": "code",
   "execution_count": 12,
   "metadata": {},
   "outputs": [
    {
     "data": {
      "application/vnd.jupyter.widget-view+json": {
       "model_id": "cca231aaad514cd1971d02b30e029668",
       "version_major": 2,
       "version_minor": 0
      },
      "text/plain": [
       "QgridWidget(grid_options={'fullWidthRows': True, 'syncColumnCellResize': True, 'forceFitColumns': True, 'defau…"
      ]
     },
     "metadata": {},
     "output_type": "display_data"
    }
   ],
   "source": [
    "qgrid_widget = qgrid.show_grid(timings, show_toolbar=True)\n",
    "qgrid_widget"
   ]
  },
  {
   "cell_type": "code",
   "execution_count": null,
   "metadata": {},
   "outputs": [],
   "source": []
  }
 ],
 "metadata": {
  "kernelspec": {
   "display_name": "Python 3",
   "language": "python",
   "name": "python3"
  },
  "language_info": {
   "codemirror_mode": {
    "name": "ipython",
    "version": 3
   },
   "file_extension": ".py",
   "mimetype": "text/x-python",
   "name": "python",
   "nbconvert_exporter": "python",
   "pygments_lexer": "ipython3",
   "version": "3.6.2"
  }
 },
 "nbformat": 4,
 "nbformat_minor": 2
}
